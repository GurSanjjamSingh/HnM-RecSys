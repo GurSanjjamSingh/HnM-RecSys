{
 "cells": [
  {
   "cell_type": "code",
   "execution_count": 21,
   "id": "9ba9ba0f-7968-47c6-8bf7-4472d1c4adaa",
   "metadata": {},
   "outputs": [],
   "source": [
    "import pandas as pd\n",
    "import matplotlib as plt"
   ]
  },
  {
   "cell_type": "code",
   "execution_count": 22,
   "id": "e497ce9b-6ea6-4e07-9d9c-e072013cfe38",
   "metadata": {},
   "outputs": [],
   "source": [
    "transactions = pd.read_csv(\"/Users/gursanjjam/Documents/hnm-recsys/kaggle_data/transactions_train.csv\")"
   ]
  },
  {
   "cell_type": "code",
   "execution_count": 23,
   "id": "31fcdf0d-6bb9-47c2-a898-e8fb68503842",
   "metadata": {},
   "outputs": [
    {
     "name": "stdout",
     "output_type": "stream",
     "text": [
      "TRANSACTIONS\n",
      "\n",
      "        t_dat                                        customer_id  article_id  \\\n",
      "0  2018-09-20  000058a12d5b43e67d225668fa1f8d618c13dc232df0ca...   663713001   \n",
      "1  2018-09-20  000058a12d5b43e67d225668fa1f8d618c13dc232df0ca...   541518023   \n",
      "2  2018-09-20  00007d2de826758b65a93dd24ce629ed66842531df6699...   505221004   \n",
      "3  2018-09-20  00007d2de826758b65a93dd24ce629ed66842531df6699...   685687003   \n",
      "4  2018-09-20  00007d2de826758b65a93dd24ce629ed66842531df6699...   685687004   \n",
      "\n",
      "      price  sales_channel_id  \n",
      "0  0.050831                 2  \n",
      "1  0.030492                 2  \n",
      "2  0.015237                 2  \n",
      "3  0.016932                 2  \n",
      "4  0.016932                 2  \n"
     ]
    }
   ],
   "source": [
    "print(\"TRANSACTIONS\\n\")\n",
    "print(transactions.head())"
   ]
  },
  {
   "cell_type": "code",
   "execution_count": 24,
   "id": "8ca50e47-f071-449d-8b0f-f2a528620429",
   "metadata": {},
   "outputs": [],
   "source": [
    "baskets = transactions[[\"t_dat\", \"customer_id\", \"article_id\"]]"
   ]
  },
  {
   "cell_type": "code",
   "execution_count": 25,
   "id": "5428ff9b-4e99-4e10-b9c4-358f641ff40a",
   "metadata": {},
   "outputs": [
    {
     "data": {
      "text/html": [
       "<div>\n",
       "<style scoped>\n",
       "    .dataframe tbody tr th:only-of-type {\n",
       "        vertical-align: middle;\n",
       "    }\n",
       "\n",
       "    .dataframe tbody tr th {\n",
       "        vertical-align: top;\n",
       "    }\n",
       "\n",
       "    .dataframe thead th {\n",
       "        text-align: right;\n",
       "    }\n",
       "</style>\n",
       "<table border=\"1\" class=\"dataframe\">\n",
       "  <thead>\n",
       "    <tr style=\"text-align: right;\">\n",
       "      <th></th>\n",
       "      <th>customer_id</th>\n",
       "      <th>t_dat</th>\n",
       "      <th>products</th>\n",
       "    </tr>\n",
       "  </thead>\n",
       "  <tbody>\n",
       "    <tr>\n",
       "      <th>0</th>\n",
       "      <td>00000dbacae5abe5e23885899a1fa44253a17956c6d1c3...</td>\n",
       "      <td>2018-12-27</td>\n",
       "      <td>[625548001, 176209023, 627759010]</td>\n",
       "    </tr>\n",
       "    <tr>\n",
       "      <th>1</th>\n",
       "      <td>00000dbacae5abe5e23885899a1fa44253a17956c6d1c3...</td>\n",
       "      <td>2019-05-02</td>\n",
       "      <td>[697138006]</td>\n",
       "    </tr>\n",
       "    <tr>\n",
       "      <th>2</th>\n",
       "      <td>00000dbacae5abe5e23885899a1fa44253a17956c6d1c3...</td>\n",
       "      <td>2019-05-25</td>\n",
       "      <td>[568601006, 568601006]</td>\n",
       "    </tr>\n",
       "    <tr>\n",
       "      <th>3</th>\n",
       "      <td>00000dbacae5abe5e23885899a1fa44253a17956c6d1c3...</td>\n",
       "      <td>2019-07-25</td>\n",
       "      <td>[607642008, 745232001]</td>\n",
       "    </tr>\n",
       "    <tr>\n",
       "      <th>4</th>\n",
       "      <td>00000dbacae5abe5e23885899a1fa44253a17956c6d1c3...</td>\n",
       "      <td>2019-09-18</td>\n",
       "      <td>[656719005]</td>\n",
       "    </tr>\n",
       "  </tbody>\n",
       "</table>\n",
       "</div>"
      ],
      "text/plain": [
       "                                         customer_id       t_dat  \\\n",
       "0  00000dbacae5abe5e23885899a1fa44253a17956c6d1c3...  2018-12-27   \n",
       "1  00000dbacae5abe5e23885899a1fa44253a17956c6d1c3...  2019-05-02   \n",
       "2  00000dbacae5abe5e23885899a1fa44253a17956c6d1c3...  2019-05-25   \n",
       "3  00000dbacae5abe5e23885899a1fa44253a17956c6d1c3...  2019-07-25   \n",
       "4  00000dbacae5abe5e23885899a1fa44253a17956c6d1c3...  2019-09-18   \n",
       "\n",
       "                            products  \n",
       "0  [625548001, 176209023, 627759010]  \n",
       "1                        [697138006]  \n",
       "2             [568601006, 568601006]  \n",
       "3             [607642008, 745232001]  \n",
       "4                        [656719005]  "
      ]
     },
     "execution_count": 25,
     "metadata": {},
     "output_type": "execute_result"
    }
   ],
   "source": [
    "baskets = (\n",
    "    baskets.groupby(['customer_id', 't_dat'])['article_id']              #Keep baskets with t_dat for splitting\n",
    "      .apply(list)\n",
    "      .reset_index(name='products')\n",
    ")\n",
    "baskets.head()"
   ]
  },
  {
   "cell_type": "code",
   "execution_count": 26,
   "id": "6eec4462-822f-41e2-ad30-d0a4c6516d47",
   "metadata": {},
   "outputs": [
    {
     "data": {
      "text/html": [
       "<div>\n",
       "<style scoped>\n",
       "    .dataframe tbody tr th:only-of-type {\n",
       "        vertical-align: middle;\n",
       "    }\n",
       "\n",
       "    .dataframe tbody tr th {\n",
       "        vertical-align: top;\n",
       "    }\n",
       "\n",
       "    .dataframe thead th {\n",
       "        text-align: right;\n",
       "    }\n",
       "</style>\n",
       "<table border=\"1\" class=\"dataframe\">\n",
       "  <thead>\n",
       "    <tr style=\"text-align: right;\">\n",
       "      <th></th>\n",
       "      <th>customer_id</th>\n",
       "      <th>t_dat</th>\n",
       "      <th>products</th>\n",
       "    </tr>\n",
       "  </thead>\n",
       "  <tbody>\n",
       "    <tr>\n",
       "      <th>0</th>\n",
       "      <td>00000dbacae5abe5e23885899a1fa44253a17956c6d1c3...</td>\n",
       "      <td>2018-12-27</td>\n",
       "      <td>[625548001, 176209023, 627759010]</td>\n",
       "    </tr>\n",
       "    <tr>\n",
       "      <th>1</th>\n",
       "      <td>00000dbacae5abe5e23885899a1fa44253a17956c6d1c3...</td>\n",
       "      <td>2019-05-02</td>\n",
       "      <td>[697138006]</td>\n",
       "    </tr>\n",
       "    <tr>\n",
       "      <th>2</th>\n",
       "      <td>00000dbacae5abe5e23885899a1fa44253a17956c6d1c3...</td>\n",
       "      <td>2019-05-25</td>\n",
       "      <td>[568601006, 568601006]</td>\n",
       "    </tr>\n",
       "    <tr>\n",
       "      <th>3</th>\n",
       "      <td>00000dbacae5abe5e23885899a1fa44253a17956c6d1c3...</td>\n",
       "      <td>2019-07-25</td>\n",
       "      <td>[607642008, 745232001]</td>\n",
       "    </tr>\n",
       "    <tr>\n",
       "      <th>4</th>\n",
       "      <td>00000dbacae5abe5e23885899a1fa44253a17956c6d1c3...</td>\n",
       "      <td>2019-09-18</td>\n",
       "      <td>[656719005]</td>\n",
       "    </tr>\n",
       "  </tbody>\n",
       "</table>\n",
       "</div>"
      ],
      "text/plain": [
       "                                         customer_id       t_dat  \\\n",
       "0  00000dbacae5abe5e23885899a1fa44253a17956c6d1c3...  2018-12-27   \n",
       "1  00000dbacae5abe5e23885899a1fa44253a17956c6d1c3...  2019-05-02   \n",
       "2  00000dbacae5abe5e23885899a1fa44253a17956c6d1c3...  2019-05-25   \n",
       "3  00000dbacae5abe5e23885899a1fa44253a17956c6d1c3...  2019-07-25   \n",
       "4  00000dbacae5abe5e23885899a1fa44253a17956c6d1c3...  2019-09-18   \n",
       "\n",
       "                            products  \n",
       "0  [625548001, 176209023, 627759010]  \n",
       "1                        [697138006]  \n",
       "2             [568601006, 568601006]  \n",
       "3             [607642008, 745232001]  \n",
       "4                        [656719005]  "
      ]
     },
     "execution_count": 26,
     "metadata": {},
     "output_type": "execute_result"
    }
   ],
   "source": [
    "baskets.head()"
   ]
  },
  {
   "cell_type": "code",
   "execution_count": 27,
   "id": "bfd1f42f-e232-4f87-8f0e-12edaf33d962",
   "metadata": {},
   "outputs": [],
   "source": [
    "## time split"
   ]
  },
  {
   "cell_type": "code",
   "execution_count": 28,
   "id": "3165043c-ed3d-4b27-8a2c-ee5cce880d3c",
   "metadata": {},
   "outputs": [
    {
     "name": "stdout",
     "output_type": "stream",
     "text": [
      "Latest date: 2020-09-22 00:00:00\n",
      "Oldest date: 2018-09-20 00:00:00\n"
     ]
    }
   ],
   "source": [
    "baskets['t_dat'] = pd.to_datetime(baskets['t_dat'])\n",
    "max_date = baskets['t_dat'].max()  #parsing t_dat to date time format and then checking min max date\n",
    "min_date = baskets['t_dat'].min()\n",
    "print(\"Latest date:\", max_date)\n",
    "print(\"Oldest date:\", min_date)"
   ]
  },
  {
   "cell_type": "code",
   "execution_count": 29,
   "id": "e73a06b3-4776-4241-96d2-cb401ec11c7c",
   "metadata": {},
   "outputs": [
    {
     "name": "stdout",
     "output_type": "stream",
     "text": [
      "Train: 2018-09-20 00:00:00 → 2020-02-15 00:00:00\n",
      "Val:   2020-02-16 00:00:00 → 2020-06-04 00:00:00\n",
      "Test:  2020-06-05 00:00:00 → 2020-09-22 00:00:00\n"
     ]
    }
   ],
   "source": [
    "total_days = (max_date - min_date).days\n",
    "\n",
    "train_end = min_date + pd.Timedelta(days=int(0.70 * total_days))\n",
    "val_end   = min_date + pd.Timedelta(days=int(0.85 * total_days))\n",
    "\n",
    "train = baskets[baskets['t_dat'] <= train_end]\n",
    "val   = baskets[(baskets['t_dat'] > train_end) & (baskets['t_dat'] <= val_end)]\n",
    "test  = baskets[baskets['t_dat'] > val_end]\n",
    "\n",
    "print(\"Train:\", train['t_dat'].min(), \"→\", train['t_dat'].max())\n",
    "print(\"Val:  \", val['t_dat'].min(),   \"→\", val['t_dat'].max())\n",
    "print(\"Test: \", test['t_dat'].min(),  \"→\", test['t_dat'].max())"
   ]
  },
  {
   "cell_type": "code",
   "execution_count": 30,
   "id": "a3e388d0-861d-4447-a8fd-dd0d0a6f22e8",
   "metadata": {},
   "outputs": [
    {
     "data": {
      "text/html": [
       "<div>\n",
       "<style scoped>\n",
       "    .dataframe tbody tr th:only-of-type {\n",
       "        vertical-align: middle;\n",
       "    }\n",
       "\n",
       "    .dataframe tbody tr th {\n",
       "        vertical-align: top;\n",
       "    }\n",
       "\n",
       "    .dataframe thead th {\n",
       "        text-align: right;\n",
       "    }\n",
       "</style>\n",
       "<table border=\"1\" class=\"dataframe\">\n",
       "  <thead>\n",
       "    <tr style=\"text-align: right;\">\n",
       "      <th></th>\n",
       "      <th>customer_id</th>\n",
       "      <th>t_dat</th>\n",
       "      <th>products</th>\n",
       "    </tr>\n",
       "  </thead>\n",
       "  <tbody>\n",
       "    <tr>\n",
       "      <th>0</th>\n",
       "      <td>00000dbacae5abe5e23885899a1fa44253a17956c6d1c3...</td>\n",
       "      <td>2018-12-27</td>\n",
       "      <td>[625548001, 176209023, 627759010]</td>\n",
       "    </tr>\n",
       "    <tr>\n",
       "      <th>1</th>\n",
       "      <td>00000dbacae5abe5e23885899a1fa44253a17956c6d1c3...</td>\n",
       "      <td>2019-05-02</td>\n",
       "      <td>[697138006]</td>\n",
       "    </tr>\n",
       "    <tr>\n",
       "      <th>2</th>\n",
       "      <td>00000dbacae5abe5e23885899a1fa44253a17956c6d1c3...</td>\n",
       "      <td>2019-05-25</td>\n",
       "      <td>[568601006, 568601006]</td>\n",
       "    </tr>\n",
       "    <tr>\n",
       "      <th>3</th>\n",
       "      <td>00000dbacae5abe5e23885899a1fa44253a17956c6d1c3...</td>\n",
       "      <td>2019-07-25</td>\n",
       "      <td>[607642008, 745232001]</td>\n",
       "    </tr>\n",
       "    <tr>\n",
       "      <th>4</th>\n",
       "      <td>00000dbacae5abe5e23885899a1fa44253a17956c6d1c3...</td>\n",
       "      <td>2019-09-18</td>\n",
       "      <td>[656719005]</td>\n",
       "    </tr>\n",
       "  </tbody>\n",
       "</table>\n",
       "</div>"
      ],
      "text/plain": [
       "                                         customer_id      t_dat  \\\n",
       "0  00000dbacae5abe5e23885899a1fa44253a17956c6d1c3... 2018-12-27   \n",
       "1  00000dbacae5abe5e23885899a1fa44253a17956c6d1c3... 2019-05-02   \n",
       "2  00000dbacae5abe5e23885899a1fa44253a17956c6d1c3... 2019-05-25   \n",
       "3  00000dbacae5abe5e23885899a1fa44253a17956c6d1c3... 2019-07-25   \n",
       "4  00000dbacae5abe5e23885899a1fa44253a17956c6d1c3... 2019-09-18   \n",
       "\n",
       "                            products  \n",
       "0  [625548001, 176209023, 627759010]  \n",
       "1                        [697138006]  \n",
       "2             [568601006, 568601006]  \n",
       "3             [607642008, 745232001]  \n",
       "4                        [656719005]  "
      ]
     },
     "execution_count": 30,
     "metadata": {},
     "output_type": "execute_result"
    }
   ],
   "source": [
    "train.head()"
   ]
  },
  {
   "cell_type": "code",
   "execution_count": 31,
   "id": "1221c139-5306-413b-a930-4c1db2e33e4b",
   "metadata": {},
   "outputs": [],
   "source": [
    "#flattening each split."
   ]
  },
  {
   "cell_type": "code",
   "execution_count": 32,
   "id": "388a0354-3e86-4110-b54b-e0ef6321500b",
   "metadata": {},
   "outputs": [],
   "source": [
    "train_seq = (\n",
    "    train.sort_values([\"customer_id\", \"t_dat\"])\n",
    "         .groupby(\"customer_id\")[\"products\"]\n",
    "         .apply(lambda lists: [item for sublist in lists for item in sublist])\n",
    "         .reset_index(name=\"sequence\")\n",
    ")\n",
    "\n",
    "val_seq = (\n",
    "    val.sort_values([\"customer_id\", \"t_dat\"])\n",
    "       .groupby(\"customer_id\")[\"products\"]\n",
    "       .apply(lambda lists: [item for sublist in lists for item in sublist])\n",
    "       .reset_index(name=\"sequence\")\n",
    ")\n",
    "\n",
    "test_seq = (\n",
    "    test.sort_values([\"customer_id\", \"t_dat\"])\n",
    "        .groupby(\"customer_id\")[\"products\"]\n",
    "        .apply(lambda lists: [item for sublist in lists for item in sublist])\n",
    "        .reset_index(name=\"sequence\")\n",
    ")"
   ]
  },
  {
   "cell_type": "code",
   "execution_count": 33,
   "id": "c7a5a0a7",
   "metadata": {},
   "outputs": [],
   "source": [
    "import numpy as np\n",
    "\n",
    "# Collect all unique product IDs across train/val/test\n",
    "all_products = set(\n",
    "    np.concatenate(train_seq[\"sequence\"].values)\n",
    ") | set(\n",
    "    np.concatenate(val_seq[\"sequence\"].values)\n",
    ") | set(\n",
    "    np.concatenate(test_seq[\"sequence\"].values)\n",
    ")\n",
    "\n",
    "# Map product → index (reserve 0 for padding if needed)\n",
    "product2idx = {p: i+1 for i, p in enumerate(sorted(all_products))}\n",
    "idx2product = {i: p for p, i in product2idx.items()}\n",
    "\n",
    "#encode sequences to indices\n",
    "def encode_sequence(seq, mapping):\n",
    "    return [mapping[p] for p in seq if p in mapping]\n",
    "\n",
    "train_seq[\"encoded\"] = train_seq[\"sequence\"].apply(lambda x: encode_sequence(x, product2idx))\n",
    "val_seq[\"encoded\"]   = val_seq[\"sequence\"].apply(lambda x: encode_sequence(x, product2idx))\n",
    "test_seq[\"encoded\"]  = test_seq[\"sequence\"].apply(lambda x: encode_sequence(x, product2idx))"
   ]
  },
  {
   "cell_type": "code",
   "execution_count": 34,
   "id": "15c57f02",
   "metadata": {},
   "outputs": [],
   "source": [
    "import torch\n",
    "MAX_LEN = 50  # or choose based on quantile of sequence lengths\n",
    "\n",
    "def pad_fixed_length(sequences, max_len, padding_value=0):\n",
    "    out = []\n",
    "    for seq in sequences:\n",
    "        if len(seq) > max_len:   # truncate\n",
    "            seq = seq[-max_len:]\n",
    "        else:                   # pre-pad\n",
    "            seq = torch.cat([torch.full((max_len - len(seq),), padding_value, dtype=torch.long), seq])\n",
    "        out.append(seq)\n",
    "    return torch.stack(out)"
   ]
  },
  {
   "cell_type": "code",
   "execution_count": 35,
   "id": "04adbe76",
   "metadata": {},
   "outputs": [],
   "source": [
    "# convert encoded sequences to list of tensors\n",
    "train_tensors = [torch.tensor(seq, dtype=torch.long) for seq in train_seq[\"encoded\"]]\n",
    "val_tensors   = [torch.tensor(seq, dtype=torch.long) for seq in val_seq[\"encoded\"]]\n",
    "test_tensors  = [torch.tensor(seq, dtype=torch.long) for seq in test_seq[\"encoded\"]]\n",
    "\n",
    "# now pad\n",
    "train_padded = pad_fixed_length(train_tensors, MAX_LEN)\n",
    "val_padded   = pad_fixed_length(val_tensors, MAX_LEN)\n",
    "test_padded  = pad_fixed_length(test_tensors, MAX_LEN)"
   ]
  },
  {
   "cell_type": "code",
   "execution_count": 36,
   "id": "941d3815",
   "metadata": {},
   "outputs": [],
   "source": [
    "from torch.utils.data import Dataset, DataLoader\n",
    "\n",
    "class SequenceDataset(Dataset):\n",
    "    def __init__(self, sequences):\n",
    "        self.sequences = sequences\n",
    "\n",
    "    def __len__(self):\n",
    "        return len(self.sequences)\n",
    "\n",
    "    def __getitem__(self, idx):\n",
    "        return self.sequences[idx]\n",
    "\n",
    "train_dataset = SequenceDataset(train_padded)\n",
    "val_dataset   = SequenceDataset(val_padded)\n",
    "test_dataset  = SequenceDataset(test_padded)\n",
    "\n",
    "train_loader = DataLoader(train_dataset, batch_size=64, shuffle=True)\n",
    "val_loader   = DataLoader(val_dataset, batch_size=64)\n",
    "test_loader  = DataLoader(test_dataset, batch_size=64)"
   ]
  },
  {
   "cell_type": "code",
   "execution_count": 37,
   "id": "dec22e7d",
   "metadata": {},
   "outputs": [],
   "source": [
    "torch.save(train_padded, \"data/splits/train_padded.pt\")\n",
    "torch.save(val_padded, \"data/splits/val_padded.pt\")\n",
    "torch.save(test_padded, \"data/splits/test_padded.pt\")"
   ]
  }
 ],
 "metadata": {
  "kernelspec": {
   "display_name": "base",
   "language": "python",
   "name": "python3"
  },
  "language_info": {
   "codemirror_mode": {
    "name": "ipython",
    "version": 3
   },
   "file_extension": ".py",
   "mimetype": "text/x-python",
   "name": "python",
   "nbconvert_exporter": "python",
   "pygments_lexer": "ipython3",
   "version": "3.13.5"
  }
 },
 "nbformat": 4,
 "nbformat_minor": 5
}
